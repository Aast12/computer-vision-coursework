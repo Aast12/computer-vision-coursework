{
 "metadata": {
  "language_info": {
   "codemirror_mode": {
    "name": "ipython",
    "version": 3
   },
   "file_extension": ".py",
   "mimetype": "text/x-python",
   "name": "python",
   "nbconvert_exporter": "python",
   "pygments_lexer": "ipython3",
   "version": "3.8.5-final"
  },
  "orig_nbformat": 2,
  "kernelspec": {
   "name": "python3",
   "display_name": "Python 3",
   "language": "python"
  }
 },
 "nbformat": 4,
 "nbformat_minor": 2,
 "cells": [
  {
   "source": [
    "# 1)\n",
    "smash = ['Mario', 'DK', 'Link', 'Samus', 'Yoshi', 'Kirby', 'Fox', 'Pikachu']\n",
    "smash"
   ],
   "cell_type": "code",
   "metadata": {},
   "execution_count": 171,
   "outputs": [
    {
     "output_type": "execute_result",
     "data": {
      "text/plain": [
       "['Mario', 'DK', 'Link', 'Samus', 'Yoshi', 'Kirby', 'Fox', 'Pikachu']"
      ]
     },
     "metadata": {},
     "execution_count": 171
    }
   ]
  },
  {
   "cell_type": "code",
   "execution_count": 172,
   "metadata": {},
   "outputs": [
    {
     "output_type": "execute_result",
     "data": {
      "text/plain": [
       "['Mario',\n",
       " 'DK',\n",
       " 'Link',\n",
       " 'Samus',\n",
       " 'Yoshi',\n",
       " 'Kirby',\n",
       " 'Fox',\n",
       " 'Pikachu',\n",
       " 'Luigi',\n",
       " 'Ness',\n",
       " 'C. Falcon',\n",
       " 'Jigglypuff']"
      ]
     },
     "metadata": {},
     "execution_count": 172
    }
   ],
   "source": [
    "# 2)\n",
    "smash.extend(['Luigi', 'Ness', 'C. Falcon', 'Jigglypuff'])\n",
    "smash"
   ]
  },
  {
   "cell_type": "code",
   "execution_count": 173,
   "metadata": {},
   "outputs": [
    {
     "output_type": "execute_result",
     "data": {
      "text/plain": [
       "['Mario',\n",
       " 'DK',\n",
       " 'Link',\n",
       " 'Samus',\n",
       " 'Yoshi',\n",
       " 'Kirby',\n",
       " 'Fox',\n",
       " 'Pikachu',\n",
       " 'Luigi',\n",
       " 'Ness',\n",
       " 'C. Falcon',\n",
       " 'Jigglypuff',\n",
       " ['Metal Mario', 'Polygon Team', 'Master Hand']]"
      ]
     },
     "metadata": {},
     "execution_count": 173
    }
   ],
   "source": [
    "# 3)\n",
    "smash.append(['Metal Mario', 'Polygon Team', 'Master Hand'])\n",
    "smash"
   ]
  },
  {
   "cell_type": "code",
   "execution_count": 174,
   "metadata": {},
   "outputs": [
    {
     "output_type": "execute_result",
     "data": {
      "text/plain": [
       "['Original roster',\n",
       " 'Luigi',\n",
       " 'Ness',\n",
       " 'C. Falcon',\n",
       " 'Jigglypuff',\n",
       " ['Metal Mario', 'Polygon Team', 'Master Hand']]"
      ]
     },
     "metadata": {},
     "execution_count": 174
    }
   ],
   "source": [
    "# 4)\n",
    "smash[0:8] = ['Original roster']\n",
    "smash"
   ]
  },
  {
   "cell_type": "code",
   "execution_count": 175,
   "metadata": {},
   "outputs": [
    {
     "output_type": "execute_result",
     "data": {
      "text/plain": [
       "[[0, 0, 0, 0], [0, 0, 0, 0], [0, 0, 0, 0]]"
      ]
     },
     "metadata": {},
     "execution_count": 175
    }
   ],
   "source": [
    "# 5)\n",
    "def null_matrix(m, n):\n",
    "    return [[0 for i in range(n)] for i in range(m)]\n",
    "\n",
    "null_matrix(3,4)"
   ]
  },
  {
   "cell_type": "code",
   "execution_count": 176,
   "metadata": {},
   "outputs": [
    {
     "output_type": "execute_result",
     "data": {
      "text/plain": [
       "[[['?', '?'], ['?', '?'], ['?', '?']],\n",
       " [['?', '?'], ['?', '?'], ['?', '?']],\n",
       " [['?', '?'], ['?', '?'], ['?', '?']],\n",
       " [['?', '?'], ['?', '?'], ['?', '?']]]"
      ]
     },
     "metadata": {},
     "execution_count": 176
    }
   ],
   "source": [
    "# 6)\n",
    "x, y, z = 4, 3, 2\n",
    "\n",
    "[[['?' for i in range(z)] for i in range(y)] for i in range(x)]"
   ]
  },
  {
   "cell_type": "code",
   "execution_count": 177,
   "metadata": {},
   "outputs": [
    {
     "output_type": "execute_result",
     "data": {
      "text/plain": [
       "{'Disney+': 7, 'Netflix': 8.99, 'Prime': 12.99}"
      ]
     },
     "metadata": {},
     "execution_count": 177
    }
   ],
   "source": [
    "# 7)\n",
    "mensualidad = {\n",
    "    'Disney+': 7,\n",
    "    'Netflix': 8.99,\n",
    "    'Prime':12.99\n",
    "}\n",
    "\n",
    "mensualidad"
   ]
  },
  {
   "cell_type": "code",
   "execution_count": 178,
   "metadata": {},
   "outputs": [
    {
     "output_type": "execute_result",
     "data": {
      "text/plain": [
       "{'Netflix': 139, 'Prime': 99, 'Blim': 109}"
      ]
     },
     "metadata": {},
     "execution_count": 178
    }
   ],
   "source": [
    "# 8)\n",
    "del mensualidad['Disney+']\n",
    "mensualidad['Blim'] = 109\n",
    "mensualidad['Netflix'] = 139\n",
    "mensualidad['Prime'] = 99\n",
    "mensualidad"
   ]
  },
  {
   "cell_type": "code",
   "execution_count": 179,
   "metadata": {},
   "outputs": [
    {
     "output_type": "execute_result",
     "data": {
      "text/plain": [
       "{'Netflix': 139, 'Prime': 99, 'Blim': 109, 'Tec': 20400}"
      ]
     },
     "metadata": {},
     "execution_count": 179
    }
   ],
   "source": [
    "# 9)\n",
    "mensualidad['Tec'] = 20400\n",
    "mensualidad"
   ]
  },
  {
   "cell_type": "code",
   "execution_count": 180,
   "metadata": {},
   "outputs": [
    {
     "output_type": "execute_result",
     "data": {
      "text/plain": [
       "array([[ 1,  2,  3,  4],\n",
       "       [ 5,  6,  7,  8],\n",
       "       [ 9, 10, 11, 12],\n",
       "       [13, 14, 15, 16]])"
      ]
     },
     "metadata": {},
     "execution_count": 180
    }
   ],
   "source": [
    "# 10)\n",
    "import numpy as np\n",
    "\n",
    "raw = np.ndarray((4,4), buffer=np.arange(1,17), dtype=np.int32)\n",
    "raw"
   ]
  },
  {
   "cell_type": "code",
   "execution_count": 181,
   "metadata": {},
   "outputs": [
    {
     "output_type": "execute_result",
     "data": {
      "text/plain": [
       "array([[2, 3],\n",
       "       [6, 7]])"
      ]
     },
     "metadata": {},
     "execution_count": 181
    }
   ],
   "source": [
    "# 11)\n",
    "raw[0:2, 1:3]"
   ]
  },
  {
   "cell_type": "code",
   "execution_count": 182,
   "metadata": {},
   "outputs": [
    {
     "output_type": "execute_result",
     "data": {
      "text/plain": [
       "array([[ 7,  8],\n",
       "       [11, 12],\n",
       "       [15, 16]])"
      ]
     },
     "metadata": {},
     "execution_count": 182
    }
   ],
   "source": [
    "# 12)\n",
    "raw[1:, 2:]"
   ]
  },
  {
   "cell_type": "code",
   "execution_count": 183,
   "metadata": {},
   "outputs": [
    {
     "output_type": "execute_result",
     "data": {
      "text/plain": [
       "(array([ 4,  8, 12, 16]),\n",
       " array([[ 1,  2,  3],\n",
       "        [ 5,  6,  7],\n",
       "        [ 9, 10, 11],\n",
       "        [13, 14, 15]]))"
      ]
     },
     "metadata": {},
     "execution_count": 183
    }
   ],
   "source": [
    "# 13)\n",
    "label = raw[:, 3]\n",
    "features = raw[:, :3]\n",
    "\n",
    "label, features"
   ]
  },
  {
   "cell_type": "code",
   "execution_count": 184,
   "metadata": {},
   "outputs": [
    {
     "output_type": "execute_result",
     "data": {
      "text/plain": [
       "[(array([1, 2, 3]), 4),\n",
       " (array([5, 6, 7]), 8),\n",
       " (array([ 9, 10, 11]), 12),\n",
       " (array([13, 14, 15]), 16)]"
      ]
     },
     "metadata": {},
     "execution_count": 184
    }
   ],
   "source": [
    "# 14)\n",
    "tuples = list(zip(features, label))\n",
    "\n",
    "tuples"
   ]
  },
  {
   "cell_type": "code",
   "execution_count": 185,
   "metadata": {},
   "outputs": [
    {
     "output_type": "execute_result",
     "data": {
      "text/plain": [
       "([(array([1, 2, 3]), 4)],\n",
       " [(array([5, 6, 7]), 8), (array([ 9, 10, 11]), 12), (array([13, 14, 15]), 16)])"
      ]
     },
     "metadata": {},
     "execution_count": 185
    }
   ],
   "source": [
    "# 15)\n",
    "test = tuples[:1]\n",
    "train = tuples[1:]\n",
    "\n",
    "test, train"
   ]
  },
  {
   "source": [
    "## 16)\n",
    "$70\\% \\cdot 35\\% = 24.5%$"
   ],
   "cell_type": "markdown",
   "metadata": {}
  },
  {
   "source": [
    "## 17)\n",
    "$0.1\\% \\cdot 99\\% = 0.099%$"
   ],
   "cell_type": "markdown",
   "metadata": {}
  },
  {
   "source": [
    "## 18)\n",
    "$f'(x) = 3x^2 \\cos(x^2) - 2x^4 \\sin(x^2)$"
   ],
   "cell_type": "markdown",
   "metadata": {}
  },
  {
   "source": [
    "## 19)\n",
    "\n",
    "f'(x) = $x^2\\cos(x) + 2x\\sin(x) + 4x^3$"
   ],
   "cell_type": "markdown",
   "metadata": {}
  },
  {
   "source": [
    "## 20)\n",
    "\n",
    "$\\frac{\\partial}{\\partial x}f(x, z) = 3x^2 + 2xz + z^2$\n",
    "\n",
    "\n",
    "$\\frac{\\partial}{\\partial x \\partial z}f(x, z) = 2x + 2z$"
   ],
   "cell_type": "markdown",
   "metadata": {}
  }
 ]
}