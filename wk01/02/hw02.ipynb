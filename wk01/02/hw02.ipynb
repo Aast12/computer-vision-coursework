{
 "metadata": {
  "language_info": {
   "codemirror_mode": {
    "name": "ipython",
    "version": 3
   },
   "file_extension": ".py",
   "mimetype": "text/x-python",
   "name": "python",
   "nbconvert_exporter": "python",
   "pygments_lexer": "ipython3",
   "version": "3.8.5-final"
  },
  "orig_nbformat": 2,
  "kernelspec": {
   "name": "python3",
   "display_name": "Python 3",
   "language": "python"
  }
 },
 "nbformat": 4,
 "nbformat_minor": 2,
 "cells": [
  {
   "cell_type": "code",
   "execution_count": 45,
   "metadata": {},
   "outputs": [],
   "source": [
    "import pandas as pd\n",
    "\n",
    "csv_path = 'pokemon.csv'"
   ]
  },
  {
   "cell_type": "code",
   "execution_count": 46,
   "metadata": {},
   "outputs": [
    {
     "output_type": "execute_result",
     "data": {
      "text/plain": [
       "Jabón        [10, 15]\n",
       "Papel        [12, 25]\n",
       "Guantes      [30, 50]\n",
       "Medicina    [40, 350]\n",
       "dtype: object"
      ]
     },
     "metadata": {},
     "execution_count": 46
    }
   ],
   "source": [
    "# 1)\n",
    "store_inventory =  {'Jabón': [10,15], 'Papel': [12,25], 'Guantes': [30,50], 'Medicina' : [40,350]}\n",
    "pd.Series(store_inventory)"
   ]
  },
  {
   "cell_type": "code",
   "execution_count": 47,
   "metadata": {},
   "outputs": [
    {
     "output_type": "execute_result",
     "data": {
      "text/plain": [
       "       0     1      2                 3\n",
       "0  Zelda  MHGU  Smash  The last of us 2\n",
       "1    8.6   8.5    8.7               3.4"
      ],
      "text/html": "<div>\n<style scoped>\n    .dataframe tbody tr th:only-of-type {\n        vertical-align: middle;\n    }\n\n    .dataframe tbody tr th {\n        vertical-align: top;\n    }\n\n    .dataframe thead th {\n        text-align: right;\n    }\n</style>\n<table border=\"1\" class=\"dataframe\">\n  <thead>\n    <tr style=\"text-align: right;\">\n      <th></th>\n      <th>0</th>\n      <th>1</th>\n      <th>2</th>\n      <th>3</th>\n    </tr>\n  </thead>\n  <tbody>\n    <tr>\n      <th>0</th>\n      <td>Zelda</td>\n      <td>MHGU</td>\n      <td>Smash</td>\n      <td>The last of us 2</td>\n    </tr>\n    <tr>\n      <th>1</th>\n      <td>8.6</td>\n      <td>8.5</td>\n      <td>8.7</td>\n      <td>3.4</td>\n    </tr>\n  </tbody>\n</table>\n</div>"
     },
     "metadata": {},
     "execution_count": 47
    }
   ],
   "source": [
    "# 2)\n",
    "game_reviews = [['Zelda','MHGU','Smash','The last of us 2'],['8.6','8.5','8.7','3.4']]\n",
    "pd.DataFrame(game_reviews)"
   ]
  },
  {
   "cell_type": "code",
   "execution_count": 48,
   "metadata": {},
   "outputs": [
    {
     "output_type": "execute_result",
     "data": {
      "text/plain": [
       "   #        Name Type 1  Type 2  Total  HP  Attack  Defense  Sp. Atk  Sp. Def  \\\n",
       "0  1   Bulbasaur  Grass  Poison    318  45      49       49       65       65   \n",
       "1  2     Ivysaur  Grass  Poison    405  60      62       63       80       80   \n",
       "2  3    Venusaur  Grass  Poison    525  80      82       83      100      100   \n",
       "3  4  Charmander   Fire     NaN    309  39      52       43       60       50   \n",
       "4  5  Charmeleon   Fire     NaN    405  58      64       58       80       65   \n",
       "5  6   Charizard   Fire  Flying    534  78      84       78      109       85   \n",
       "6  7    Squirtle  Water     NaN    314  44      48       65       50       64   \n",
       "7  8   Wartortle  Water     NaN    405  59      63       80       65       80   \n",
       "8  9   Blastoise  Water     NaN    530  79      83      100       85      105   \n",
       "\n",
       "   Speed  Generation  Legendary  \n",
       "0     45           1      False  \n",
       "1     60           1      False  \n",
       "2     80           1      False  \n",
       "3     65           1      False  \n",
       "4     80           1      False  \n",
       "5    100           1      False  \n",
       "6     43           1      False  \n",
       "7     58           1      False  \n",
       "8     78           1      False  "
      ],
      "text/html": "<div>\n<style scoped>\n    .dataframe tbody tr th:only-of-type {\n        vertical-align: middle;\n    }\n\n    .dataframe tbody tr th {\n        vertical-align: top;\n    }\n\n    .dataframe thead th {\n        text-align: right;\n    }\n</style>\n<table border=\"1\" class=\"dataframe\">\n  <thead>\n    <tr style=\"text-align: right;\">\n      <th></th>\n      <th>#</th>\n      <th>Name</th>\n      <th>Type 1</th>\n      <th>Type 2</th>\n      <th>Total</th>\n      <th>HP</th>\n      <th>Attack</th>\n      <th>Defense</th>\n      <th>Sp. Atk</th>\n      <th>Sp. Def</th>\n      <th>Speed</th>\n      <th>Generation</th>\n      <th>Legendary</th>\n    </tr>\n  </thead>\n  <tbody>\n    <tr>\n      <th>0</th>\n      <td>1</td>\n      <td>Bulbasaur</td>\n      <td>Grass</td>\n      <td>Poison</td>\n      <td>318</td>\n      <td>45</td>\n      <td>49</td>\n      <td>49</td>\n      <td>65</td>\n      <td>65</td>\n      <td>45</td>\n      <td>1</td>\n      <td>False</td>\n    </tr>\n    <tr>\n      <th>1</th>\n      <td>2</td>\n      <td>Ivysaur</td>\n      <td>Grass</td>\n      <td>Poison</td>\n      <td>405</td>\n      <td>60</td>\n      <td>62</td>\n      <td>63</td>\n      <td>80</td>\n      <td>80</td>\n      <td>60</td>\n      <td>1</td>\n      <td>False</td>\n    </tr>\n    <tr>\n      <th>2</th>\n      <td>3</td>\n      <td>Venusaur</td>\n      <td>Grass</td>\n      <td>Poison</td>\n      <td>525</td>\n      <td>80</td>\n      <td>82</td>\n      <td>83</td>\n      <td>100</td>\n      <td>100</td>\n      <td>80</td>\n      <td>1</td>\n      <td>False</td>\n    </tr>\n    <tr>\n      <th>3</th>\n      <td>4</td>\n      <td>Charmander</td>\n      <td>Fire</td>\n      <td>NaN</td>\n      <td>309</td>\n      <td>39</td>\n      <td>52</td>\n      <td>43</td>\n      <td>60</td>\n      <td>50</td>\n      <td>65</td>\n      <td>1</td>\n      <td>False</td>\n    </tr>\n    <tr>\n      <th>4</th>\n      <td>5</td>\n      <td>Charmeleon</td>\n      <td>Fire</td>\n      <td>NaN</td>\n      <td>405</td>\n      <td>58</td>\n      <td>64</td>\n      <td>58</td>\n      <td>80</td>\n      <td>65</td>\n      <td>80</td>\n      <td>1</td>\n      <td>False</td>\n    </tr>\n    <tr>\n      <th>5</th>\n      <td>6</td>\n      <td>Charizard</td>\n      <td>Fire</td>\n      <td>Flying</td>\n      <td>534</td>\n      <td>78</td>\n      <td>84</td>\n      <td>78</td>\n      <td>109</td>\n      <td>85</td>\n      <td>100</td>\n      <td>1</td>\n      <td>False</td>\n    </tr>\n    <tr>\n      <th>6</th>\n      <td>7</td>\n      <td>Squirtle</td>\n      <td>Water</td>\n      <td>NaN</td>\n      <td>314</td>\n      <td>44</td>\n      <td>48</td>\n      <td>65</td>\n      <td>50</td>\n      <td>64</td>\n      <td>43</td>\n      <td>1</td>\n      <td>False</td>\n    </tr>\n    <tr>\n      <th>7</th>\n      <td>8</td>\n      <td>Wartortle</td>\n      <td>Water</td>\n      <td>NaN</td>\n      <td>405</td>\n      <td>59</td>\n      <td>63</td>\n      <td>80</td>\n      <td>65</td>\n      <td>80</td>\n      <td>58</td>\n      <td>1</td>\n      <td>False</td>\n    </tr>\n    <tr>\n      <th>8</th>\n      <td>9</td>\n      <td>Blastoise</td>\n      <td>Water</td>\n      <td>NaN</td>\n      <td>530</td>\n      <td>79</td>\n      <td>83</td>\n      <td>100</td>\n      <td>85</td>\n      <td>105</td>\n      <td>78</td>\n      <td>1</td>\n      <td>False</td>\n    </tr>\n  </tbody>\n</table>\n</div>"
     },
     "metadata": {},
     "execution_count": 48
    }
   ],
   "source": [
    "# 3)\n",
    "pokemon_df = pd.read_csv(csv_path)\n",
    "pokemon_df[:9]"
   ]
  },
  {
   "cell_type": "code",
   "execution_count": 49,
   "metadata": {},
   "outputs": [
    {
     "output_type": "execute_result",
     "data": {
      "text/plain": [
       "       #       Name   Type 1  Type 2  Total   HP  Attack  Defense  Sp. Atk  \\\n",
       "147  148  Dragonair   Dragon     NaN    420   61      84       65       70   \n",
       "148  149  Dragonite   Dragon  Flying    600   91     134       95      100   \n",
       "149  150     Mewtwo  Psychic     NaN    680  106     110       90      154   \n",
       "150  151        Mew  Psychic     NaN    600  100     100      100      100   \n",
       "\n",
       "     Sp. Def  Speed  Generation  Legendary  \n",
       "147       70     70           1      False  \n",
       "148      100     80           1      False  \n",
       "149       90    130           1       True  \n",
       "150      100    100           1       True  "
      ],
      "text/html": "<div>\n<style scoped>\n    .dataframe tbody tr th:only-of-type {\n        vertical-align: middle;\n    }\n\n    .dataframe tbody tr th {\n        vertical-align: top;\n    }\n\n    .dataframe thead th {\n        text-align: right;\n    }\n</style>\n<table border=\"1\" class=\"dataframe\">\n  <thead>\n    <tr style=\"text-align: right;\">\n      <th></th>\n      <th>#</th>\n      <th>Name</th>\n      <th>Type 1</th>\n      <th>Type 2</th>\n      <th>Total</th>\n      <th>HP</th>\n      <th>Attack</th>\n      <th>Defense</th>\n      <th>Sp. Atk</th>\n      <th>Sp. Def</th>\n      <th>Speed</th>\n      <th>Generation</th>\n      <th>Legendary</th>\n    </tr>\n  </thead>\n  <tbody>\n    <tr>\n      <th>147</th>\n      <td>148</td>\n      <td>Dragonair</td>\n      <td>Dragon</td>\n      <td>NaN</td>\n      <td>420</td>\n      <td>61</td>\n      <td>84</td>\n      <td>65</td>\n      <td>70</td>\n      <td>70</td>\n      <td>70</td>\n      <td>1</td>\n      <td>False</td>\n    </tr>\n    <tr>\n      <th>148</th>\n      <td>149</td>\n      <td>Dragonite</td>\n      <td>Dragon</td>\n      <td>Flying</td>\n      <td>600</td>\n      <td>91</td>\n      <td>134</td>\n      <td>95</td>\n      <td>100</td>\n      <td>100</td>\n      <td>80</td>\n      <td>1</td>\n      <td>False</td>\n    </tr>\n    <tr>\n      <th>149</th>\n      <td>150</td>\n      <td>Mewtwo</td>\n      <td>Psychic</td>\n      <td>NaN</td>\n      <td>680</td>\n      <td>106</td>\n      <td>110</td>\n      <td>90</td>\n      <td>154</td>\n      <td>90</td>\n      <td>130</td>\n      <td>1</td>\n      <td>True</td>\n    </tr>\n    <tr>\n      <th>150</th>\n      <td>151</td>\n      <td>Mew</td>\n      <td>Psychic</td>\n      <td>NaN</td>\n      <td>600</td>\n      <td>100</td>\n      <td>100</td>\n      <td>100</td>\n      <td>100</td>\n      <td>100</td>\n      <td>100</td>\n      <td>1</td>\n      <td>True</td>\n    </tr>\n  </tbody>\n</table>\n</div>"
     },
     "metadata": {},
     "execution_count": 49
    }
   ],
   "source": [
    "# 4)\n",
    "pokemon_df[-4:]"
   ]
  },
  {
   "cell_type": "code",
   "execution_count": 50,
   "metadata": {},
   "outputs": [
    {
     "output_type": "execute_result",
     "data": {
      "text/plain": [
       "           Name   Type 1  Type 2  Total   HP  Attack  Defense  Sp. Atk  \\\n",
       "#                                                                        \n",
       "1     Bulbasaur    Grass  Poison    318   45      49       49       65   \n",
       "2       Ivysaur    Grass  Poison    405   60      62       63       80   \n",
       "3      Venusaur    Grass  Poison    525   80      82       83      100   \n",
       "4    Charmander     Fire     NaN    309   39      52       43       60   \n",
       "5    Charmeleon     Fire     NaN    405   58      64       58       80   \n",
       "..          ...      ...     ...    ...  ...     ...      ...      ...   \n",
       "147     Dratini   Dragon     NaN    300   41      64       45       50   \n",
       "148   Dragonair   Dragon     NaN    420   61      84       65       70   \n",
       "149   Dragonite   Dragon  Flying    600   91     134       95      100   \n",
       "150      Mewtwo  Psychic     NaN    680  106     110       90      154   \n",
       "151         Mew  Psychic     NaN    600  100     100      100      100   \n",
       "\n",
       "     Sp. Def  Speed  Generation  Legendary  \n",
       "#                                           \n",
       "1         65     45           1      False  \n",
       "2         80     60           1      False  \n",
       "3        100     80           1      False  \n",
       "4         50     65           1      False  \n",
       "5         65     80           1      False  \n",
       "..       ...    ...         ...        ...  \n",
       "147       50     50           1      False  \n",
       "148       70     70           1      False  \n",
       "149      100     80           1      False  \n",
       "150       90    130           1       True  \n",
       "151      100    100           1       True  \n",
       "\n",
       "[151 rows x 12 columns]"
      ],
      "text/html": "<div>\n<style scoped>\n    .dataframe tbody tr th:only-of-type {\n        vertical-align: middle;\n    }\n\n    .dataframe tbody tr th {\n        vertical-align: top;\n    }\n\n    .dataframe thead th {\n        text-align: right;\n    }\n</style>\n<table border=\"1\" class=\"dataframe\">\n  <thead>\n    <tr style=\"text-align: right;\">\n      <th></th>\n      <th>Name</th>\n      <th>Type 1</th>\n      <th>Type 2</th>\n      <th>Total</th>\n      <th>HP</th>\n      <th>Attack</th>\n      <th>Defense</th>\n      <th>Sp. Atk</th>\n      <th>Sp. Def</th>\n      <th>Speed</th>\n      <th>Generation</th>\n      <th>Legendary</th>\n    </tr>\n    <tr>\n      <th>#</th>\n      <th></th>\n      <th></th>\n      <th></th>\n      <th></th>\n      <th></th>\n      <th></th>\n      <th></th>\n      <th></th>\n      <th></th>\n      <th></th>\n      <th></th>\n      <th></th>\n    </tr>\n  </thead>\n  <tbody>\n    <tr>\n      <th>1</th>\n      <td>Bulbasaur</td>\n      <td>Grass</td>\n      <td>Poison</td>\n      <td>318</td>\n      <td>45</td>\n      <td>49</td>\n      <td>49</td>\n      <td>65</td>\n      <td>65</td>\n      <td>45</td>\n      <td>1</td>\n      <td>False</td>\n    </tr>\n    <tr>\n      <th>2</th>\n      <td>Ivysaur</td>\n      <td>Grass</td>\n      <td>Poison</td>\n      <td>405</td>\n      <td>60</td>\n      <td>62</td>\n      <td>63</td>\n      <td>80</td>\n      <td>80</td>\n      <td>60</td>\n      <td>1</td>\n      <td>False</td>\n    </tr>\n    <tr>\n      <th>3</th>\n      <td>Venusaur</td>\n      <td>Grass</td>\n      <td>Poison</td>\n      <td>525</td>\n      <td>80</td>\n      <td>82</td>\n      <td>83</td>\n      <td>100</td>\n      <td>100</td>\n      <td>80</td>\n      <td>1</td>\n      <td>False</td>\n    </tr>\n    <tr>\n      <th>4</th>\n      <td>Charmander</td>\n      <td>Fire</td>\n      <td>NaN</td>\n      <td>309</td>\n      <td>39</td>\n      <td>52</td>\n      <td>43</td>\n      <td>60</td>\n      <td>50</td>\n      <td>65</td>\n      <td>1</td>\n      <td>False</td>\n    </tr>\n    <tr>\n      <th>5</th>\n      <td>Charmeleon</td>\n      <td>Fire</td>\n      <td>NaN</td>\n      <td>405</td>\n      <td>58</td>\n      <td>64</td>\n      <td>58</td>\n      <td>80</td>\n      <td>65</td>\n      <td>80</td>\n      <td>1</td>\n      <td>False</td>\n    </tr>\n    <tr>\n      <th>...</th>\n      <td>...</td>\n      <td>...</td>\n      <td>...</td>\n      <td>...</td>\n      <td>...</td>\n      <td>...</td>\n      <td>...</td>\n      <td>...</td>\n      <td>...</td>\n      <td>...</td>\n      <td>...</td>\n      <td>...</td>\n    </tr>\n    <tr>\n      <th>147</th>\n      <td>Dratini</td>\n      <td>Dragon</td>\n      <td>NaN</td>\n      <td>300</td>\n      <td>41</td>\n      <td>64</td>\n      <td>45</td>\n      <td>50</td>\n      <td>50</td>\n      <td>50</td>\n      <td>1</td>\n      <td>False</td>\n    </tr>\n    <tr>\n      <th>148</th>\n      <td>Dragonair</td>\n      <td>Dragon</td>\n      <td>NaN</td>\n      <td>420</td>\n      <td>61</td>\n      <td>84</td>\n      <td>65</td>\n      <td>70</td>\n      <td>70</td>\n      <td>70</td>\n      <td>1</td>\n      <td>False</td>\n    </tr>\n    <tr>\n      <th>149</th>\n      <td>Dragonite</td>\n      <td>Dragon</td>\n      <td>Flying</td>\n      <td>600</td>\n      <td>91</td>\n      <td>134</td>\n      <td>95</td>\n      <td>100</td>\n      <td>100</td>\n      <td>80</td>\n      <td>1</td>\n      <td>False</td>\n    </tr>\n    <tr>\n      <th>150</th>\n      <td>Mewtwo</td>\n      <td>Psychic</td>\n      <td>NaN</td>\n      <td>680</td>\n      <td>106</td>\n      <td>110</td>\n      <td>90</td>\n      <td>154</td>\n      <td>90</td>\n      <td>130</td>\n      <td>1</td>\n      <td>True</td>\n    </tr>\n    <tr>\n      <th>151</th>\n      <td>Mew</td>\n      <td>Psychic</td>\n      <td>NaN</td>\n      <td>600</td>\n      <td>100</td>\n      <td>100</td>\n      <td>100</td>\n      <td>100</td>\n      <td>100</td>\n      <td>100</td>\n      <td>1</td>\n      <td>True</td>\n    </tr>\n  </tbody>\n</table>\n<p>151 rows × 12 columns</p>\n</div>"
     },
     "metadata": {},
     "execution_count": 50
    }
   ],
   "source": [
    "# 5)\n",
    "pokemon_df = pokemon_df.set_index('#')\n",
    "pokemon_df"
   ]
  },
  {
   "cell_type": "code",
   "execution_count": 51,
   "metadata": {},
   "outputs": [
    {
     "output_type": "execute_result",
     "data": {
      "text/plain": [
       "Name           Pikachu\n",
       "Type 1        Electric\n",
       "Type 2             NaN\n",
       "Total              320\n",
       "HP                  35\n",
       "Attack              55\n",
       "Defense             40\n",
       "Sp. Atk             50\n",
       "Sp. Def             50\n",
       "Speed               90\n",
       "Generation           1\n",
       "Legendary        False\n",
       "Name: 25, dtype: object"
      ]
     },
     "metadata": {},
     "execution_count": 51
    }
   ],
   "source": [
    "# 6)\n",
    "pokemon_df.iloc[24]"
   ]
  },
  {
   "cell_type": "code",
   "execution_count": 52,
   "metadata": {},
   "outputs": [
    {
     "output_type": "execute_result",
     "data": {
      "text/plain": [
       "        Name    Type 1 Type 2  Total  HP  Attack  Defense  Sp. Atk  Sp. Def  \\\n",
       "#                                                                             \n",
       "135  Jolteon  Electric    NaN    525  65      65       60      110       95   \n",
       "\n",
       "     Speed  Generation  Legendary  \n",
       "#                                  \n",
       "135    130           1      False  "
      ],
      "text/html": "<div>\n<style scoped>\n    .dataframe tbody tr th:only-of-type {\n        vertical-align: middle;\n    }\n\n    .dataframe tbody tr th {\n        vertical-align: top;\n    }\n\n    .dataframe thead th {\n        text-align: right;\n    }\n</style>\n<table border=\"1\" class=\"dataframe\">\n  <thead>\n    <tr style=\"text-align: right;\">\n      <th></th>\n      <th>Name</th>\n      <th>Type 1</th>\n      <th>Type 2</th>\n      <th>Total</th>\n      <th>HP</th>\n      <th>Attack</th>\n      <th>Defense</th>\n      <th>Sp. Atk</th>\n      <th>Sp. Def</th>\n      <th>Speed</th>\n      <th>Generation</th>\n      <th>Legendary</th>\n    </tr>\n    <tr>\n      <th>#</th>\n      <th></th>\n      <th></th>\n      <th></th>\n      <th></th>\n      <th></th>\n      <th></th>\n      <th></th>\n      <th></th>\n      <th></th>\n      <th></th>\n      <th></th>\n      <th></th>\n    </tr>\n  </thead>\n  <tbody>\n    <tr>\n      <th>135</th>\n      <td>Jolteon</td>\n      <td>Electric</td>\n      <td>NaN</td>\n      <td>525</td>\n      <td>65</td>\n      <td>65</td>\n      <td>60</td>\n      <td>110</td>\n      <td>95</td>\n      <td>130</td>\n      <td>1</td>\n      <td>False</td>\n    </tr>\n  </tbody>\n</table>\n</div>"
     },
     "metadata": {},
     "execution_count": 52
    }
   ],
   "source": [
    "# 7)\n",
    "pokemon_df[pokemon_df['Name'] == 'Jolteon']"
   ]
  },
  {
   "cell_type": "code",
   "execution_count": 53,
   "metadata": {},
   "outputs": [
    {
     "output_type": "execute_result",
     "data": {
      "text/plain": [
       "          Name  Type 1  Type 2  Total  HP  Attack  Defense  Sp. Atk  Sp. Def  \\\n",
       "#                                                                              \n",
       "147    Dratini  Dragon     NaN    300  41      64       45       50       50   \n",
       "148  Dragonair  Dragon     NaN    420  61      84       65       70       70   \n",
       "149  Dragonite  Dragon  Flying    600  91     134       95      100      100   \n",
       "\n",
       "     Speed  Generation  Legendary  \n",
       "#                                  \n",
       "147     50           1      False  \n",
       "148     70           1      False  \n",
       "149     80           1      False  "
      ],
      "text/html": "<div>\n<style scoped>\n    .dataframe tbody tr th:only-of-type {\n        vertical-align: middle;\n    }\n\n    .dataframe tbody tr th {\n        vertical-align: top;\n    }\n\n    .dataframe thead th {\n        text-align: right;\n    }\n</style>\n<table border=\"1\" class=\"dataframe\">\n  <thead>\n    <tr style=\"text-align: right;\">\n      <th></th>\n      <th>Name</th>\n      <th>Type 1</th>\n      <th>Type 2</th>\n      <th>Total</th>\n      <th>HP</th>\n      <th>Attack</th>\n      <th>Defense</th>\n      <th>Sp. Atk</th>\n      <th>Sp. Def</th>\n      <th>Speed</th>\n      <th>Generation</th>\n      <th>Legendary</th>\n    </tr>\n    <tr>\n      <th>#</th>\n      <th></th>\n      <th></th>\n      <th></th>\n      <th></th>\n      <th></th>\n      <th></th>\n      <th></th>\n      <th></th>\n      <th></th>\n      <th></th>\n      <th></th>\n      <th></th>\n    </tr>\n  </thead>\n  <tbody>\n    <tr>\n      <th>147</th>\n      <td>Dratini</td>\n      <td>Dragon</td>\n      <td>NaN</td>\n      <td>300</td>\n      <td>41</td>\n      <td>64</td>\n      <td>45</td>\n      <td>50</td>\n      <td>50</td>\n      <td>50</td>\n      <td>1</td>\n      <td>False</td>\n    </tr>\n    <tr>\n      <th>148</th>\n      <td>Dragonair</td>\n      <td>Dragon</td>\n      <td>NaN</td>\n      <td>420</td>\n      <td>61</td>\n      <td>84</td>\n      <td>65</td>\n      <td>70</td>\n      <td>70</td>\n      <td>70</td>\n      <td>1</td>\n      <td>False</td>\n    </tr>\n    <tr>\n      <th>149</th>\n      <td>Dragonite</td>\n      <td>Dragon</td>\n      <td>Flying</td>\n      <td>600</td>\n      <td>91</td>\n      <td>134</td>\n      <td>95</td>\n      <td>100</td>\n      <td>100</td>\n      <td>80</td>\n      <td>1</td>\n      <td>False</td>\n    </tr>\n  </tbody>\n</table>\n</div>"
     },
     "metadata": {},
     "execution_count": 53
    }
   ],
   "source": [
    "# 8)\n",
    "pokemon_df[(pokemon_df['Type 1'] == 'Dragon') | (pokemon_df['Type 2'] == 'Dragon')]"
   ]
  },
  {
   "cell_type": "code",
   "execution_count": 54,
   "metadata": {},
   "outputs": [
    {
     "output_type": "execute_result",
     "data": {
      "text/plain": [
       "           Name  Type 1 Type 2  Total   HP  Attack  Defense  Sp. Atk  Sp. Def  \\\n",
       "#                                                                               \n",
       "40   Wigglytuff  Normal  Fairy    435  140      70       45       85       50   \n",
       "113     Chansey  Normal    NaN    450  250       5        5       35      105   \n",
       "131      Lapras   Water    Ice    535  130      85       80       85       95   \n",
       "134    Vaporeon   Water    NaN    525  130      65       60      110       95   \n",
       "143     Snorlax  Normal    NaN    540  160     110       65       65      110   \n",
       "\n",
       "     Speed  Generation  Legendary  \n",
       "#                                  \n",
       "40      45           1      False  \n",
       "113     50           1      False  \n",
       "131     60           1      False  \n",
       "134     65           1      False  \n",
       "143     30           1      False  "
      ],
      "text/html": "<div>\n<style scoped>\n    .dataframe tbody tr th:only-of-type {\n        vertical-align: middle;\n    }\n\n    .dataframe tbody tr th {\n        vertical-align: top;\n    }\n\n    .dataframe thead th {\n        text-align: right;\n    }\n</style>\n<table border=\"1\" class=\"dataframe\">\n  <thead>\n    <tr style=\"text-align: right;\">\n      <th></th>\n      <th>Name</th>\n      <th>Type 1</th>\n      <th>Type 2</th>\n      <th>Total</th>\n      <th>HP</th>\n      <th>Attack</th>\n      <th>Defense</th>\n      <th>Sp. Atk</th>\n      <th>Sp. Def</th>\n      <th>Speed</th>\n      <th>Generation</th>\n      <th>Legendary</th>\n    </tr>\n    <tr>\n      <th>#</th>\n      <th></th>\n      <th></th>\n      <th></th>\n      <th></th>\n      <th></th>\n      <th></th>\n      <th></th>\n      <th></th>\n      <th></th>\n      <th></th>\n      <th></th>\n      <th></th>\n    </tr>\n  </thead>\n  <tbody>\n    <tr>\n      <th>40</th>\n      <td>Wigglytuff</td>\n      <td>Normal</td>\n      <td>Fairy</td>\n      <td>435</td>\n      <td>140</td>\n      <td>70</td>\n      <td>45</td>\n      <td>85</td>\n      <td>50</td>\n      <td>45</td>\n      <td>1</td>\n      <td>False</td>\n    </tr>\n    <tr>\n      <th>113</th>\n      <td>Chansey</td>\n      <td>Normal</td>\n      <td>NaN</td>\n      <td>450</td>\n      <td>250</td>\n      <td>5</td>\n      <td>5</td>\n      <td>35</td>\n      <td>105</td>\n      <td>50</td>\n      <td>1</td>\n      <td>False</td>\n    </tr>\n    <tr>\n      <th>131</th>\n      <td>Lapras</td>\n      <td>Water</td>\n      <td>Ice</td>\n      <td>535</td>\n      <td>130</td>\n      <td>85</td>\n      <td>80</td>\n      <td>85</td>\n      <td>95</td>\n      <td>60</td>\n      <td>1</td>\n      <td>False</td>\n    </tr>\n    <tr>\n      <th>134</th>\n      <td>Vaporeon</td>\n      <td>Water</td>\n      <td>NaN</td>\n      <td>525</td>\n      <td>130</td>\n      <td>65</td>\n      <td>60</td>\n      <td>110</td>\n      <td>95</td>\n      <td>65</td>\n      <td>1</td>\n      <td>False</td>\n    </tr>\n    <tr>\n      <th>143</th>\n      <td>Snorlax</td>\n      <td>Normal</td>\n      <td>NaN</td>\n      <td>540</td>\n      <td>160</td>\n      <td>110</td>\n      <td>65</td>\n      <td>65</td>\n      <td>110</td>\n      <td>30</td>\n      <td>1</td>\n      <td>False</td>\n    </tr>\n  </tbody>\n</table>\n</div>"
     },
     "metadata": {},
     "execution_count": 54
    }
   ],
   "source": [
    "# 9)\n",
    "pokemon_df[pokemon_df['HP'] > 120]"
   ]
  },
  {
   "cell_type": "code",
   "execution_count": 55,
   "metadata": {},
   "outputs": [
    {
     "output_type": "execute_result",
     "data": {
      "text/plain": [
       "         Name  Attack  Defense\n",
       "#                             \n",
       "144  Articuno      85      100\n",
       "145    Zapdos      90       85\n",
       "146   Moltres     100       90\n",
       "150    Mewtwo     110       90\n",
       "151       Mew     100      100"
      ],
      "text/html": "<div>\n<style scoped>\n    .dataframe tbody tr th:only-of-type {\n        vertical-align: middle;\n    }\n\n    .dataframe tbody tr th {\n        vertical-align: top;\n    }\n\n    .dataframe thead th {\n        text-align: right;\n    }\n</style>\n<table border=\"1\" class=\"dataframe\">\n  <thead>\n    <tr style=\"text-align: right;\">\n      <th></th>\n      <th>Name</th>\n      <th>Attack</th>\n      <th>Defense</th>\n    </tr>\n    <tr>\n      <th>#</th>\n      <th></th>\n      <th></th>\n      <th></th>\n    </tr>\n  </thead>\n  <tbody>\n    <tr>\n      <th>144</th>\n      <td>Articuno</td>\n      <td>85</td>\n      <td>100</td>\n    </tr>\n    <tr>\n      <th>145</th>\n      <td>Zapdos</td>\n      <td>90</td>\n      <td>85</td>\n    </tr>\n    <tr>\n      <th>146</th>\n      <td>Moltres</td>\n      <td>100</td>\n      <td>90</td>\n    </tr>\n    <tr>\n      <th>150</th>\n      <td>Mewtwo</td>\n      <td>110</td>\n      <td>90</td>\n    </tr>\n    <tr>\n      <th>151</th>\n      <td>Mew</td>\n      <td>100</td>\n      <td>100</td>\n    </tr>\n  </tbody>\n</table>\n</div>"
     },
     "metadata": {},
     "execution_count": 55
    }
   ],
   "source": [
    "# 10)\n",
    "columns = ['Name' ,'Attack', 'Defense']\n",
    "pokemon_df[pokemon_df['Legendary']][columns]"
   ]
  }
 ]
}