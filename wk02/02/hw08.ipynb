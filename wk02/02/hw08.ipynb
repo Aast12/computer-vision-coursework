{
 "metadata": {
  "language_info": {
   "codemirror_mode": {
    "name": "ipython",
    "version": 3
   },
   "file_extension": ".py",
   "mimetype": "text/x-python",
   "name": "python",
   "nbconvert_exporter": "python",
   "pygments_lexer": "ipython3",
   "version": "3.8.5-final"
  },
  "orig_nbformat": 2,
  "kernelspec": {
   "name": "python3",
   "display_name": "Python 3",
   "language": "python"
  }
 },
 "nbformat": 4,
 "nbformat_minor": 2,
 "cells": [
  {
   "cell_type": "code",
   "execution_count": 2,
   "metadata": {},
   "outputs": [],
   "source": [
    "import numpy as np\n",
    "import cv2"
   ]
  },
  {
   "source": [
    "## 1) Concatenación de imágenes"
   ],
   "cell_type": "markdown",
   "metadata": {}
  },
  {
   "cell_type": "code",
   "execution_count": 3,
   "metadata": {},
   "outputs": [],
   "source": [
    "cap = cv2.VideoCapture(0)\n",
    "font = cv2.FONT_HERSHEY_SIMPLEX\n",
    "\n",
    "while True:\n",
    "    ret, frame = cap.read()\n",
    "    if ret != True:\n",
    "        break\n",
    "\n",
    "    display_frame = np.copy(frame)\n",
    "    cv2.putText(display_frame, \"Presiona 'q' para tomar una foto\", (0, 50), font, 0.5, (255, 255, 255), 2)\n",
    "\n",
    "    cv2.imshow('frame', display_frame)\n",
    "    if cv2.waitKey(1) & 0xFF == ord('q'):\n",
    "        break\n",
    "\n",
    "cap.release()\n",
    "cv2.destroyAllWindows()"
   ]
  },
  {
   "cell_type": "code",
   "execution_count": 4,
   "metadata": {},
   "outputs": [],
   "source": [
    "\n",
    "f2 = np.copy(frame)\n",
    "cv2.putText(f2, 'Alam Sanchez',(400, 50), font, 0.7, (0, 0, 0), 2)\n",
    "cv2.putText(f2, 'A00824854',(400, 80), font, 0.7, (0, 0, 0), 2)\n",
    "\n",
    "cv2.imshow('frame', f2)\n",
    "cv2.waitKey(0)\n",
    "\n",
    "cv2.destroyAllWindows()"
   ]
  },
  {
   "cell_type": "code",
   "execution_count": 5,
   "metadata": {},
   "outputs": [
    {
     "output_type": "execute_result",
     "data": {
      "text/plain": [
       "True"
      ]
     },
     "metadata": {},
     "execution_count": 5
    }
   ],
   "source": [
    "meme = cv2.imread('meme.png', cv2.IMREAD_COLOR)\n",
    "\n",
    "ratio = frame.shape[0] / meme.shape[0]\n",
    "\n",
    "meme = cv2.resize(meme, (int(meme.shape[1] * ratio), frame.shape[0]), interpolation = cv2.INTER_AREA)\n",
    "concat = cv2.hconcat([f2, meme], 2)\n",
    "\n",
    "\n",
    "cv2.imshow('concatenated', concat)\n",
    "cv2.waitKey(0)\n",
    "cv2.destroyAllWindows()\n",
    "\n",
    "cv2.imwrite('concatenated.jpg', concat)"
   ]
  },
  {
   "source": [
    "## 2) Filtro de Color"
   ],
   "cell_type": "markdown",
   "metadata": {}
  },
  {
   "cell_type": "code",
   "execution_count": 32,
   "metadata": {},
   "outputs": [],
   "source": [
    "lower = None\n",
    "upper = None\n",
    "\n",
    "def color_pick(event, x, y, flags, param):\n",
    "    global lower, upper, hsv\n",
    "    if event == cv2.EVENT_LBUTTONDOWN:\n",
    "        h, s, v = hsv[y][x] \n",
    "        color_range = np.array([50, 100, 100])\n",
    "        lower = hsv[y][x] - color_range\n",
    "        upper = hsv[y][x] + color_range\n",
    "        lower = np.clip(lower, 0, 255)\n",
    "        upper = np.clip(upper, 0, 255)\n",
    "    if event == cv2.EVENT_RBUTTONDOWN:\n",
    "        lower = None\n",
    "        upper = None\n",
    "\n",
    "cap = cv2.VideoCapture(0)\n",
    "cv2.namedWindow('video')\n",
    "cv2.setMouseCallback('video', color_pick)\n",
    "\n",
    "while True:\n",
    "    ret, frame = cap.read()\n",
    "    hsv = cv2.cvtColor(frame, cv2.COLOR_BGR2HSV)\n",
    "    if ret != True:\n",
    "        break\n",
    "    \n",
    "    mask = None\n",
    "    \n",
    "    if not (lower is None):\n",
    "        mask = cv2.inRange(hsv, lower, upper)\n",
    "        mask_inv = cv2.bitwise_not(mask)\n",
    "        res = cv2.bitwise_and(frame, frame, mask = mask)\n",
    "\n",
    "    clean_frame = np.copy(frame)\n",
    "    cv2.putText(frame, \"Click derecho para seleccionar el color sobre el cursor\", (0, 20), cv2.FONT_HERSHEY_SIMPLEX, 0.5, (255, 255, 255), 2)\n",
    "    cv2.putText(frame, \"Click izquierdo para resetear\", (0, 40), cv2.FONT_HERSHEY_SIMPLEX, 0.5, (255, 255, 255), 2)\n",
    "\n",
    "    cv2.imshow('video', frame)\n",
    "    cv2.imshow('video_filtered', clean_frame if mask is None else res)\n",
    "\n",
    "    if (cv2.waitKey(20) & 0xFF == ord('q')) or (cv2.waitKey(20) & 0xFF == 27):\n",
    "        break\n",
    "\n",
    "cap.release()\n",
    "cv2.destroyAllWindows()"
   ]
  }
 ]
}