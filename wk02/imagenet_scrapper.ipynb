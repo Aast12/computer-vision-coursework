{
 "metadata": {
  "language_info": {
   "codemirror_mode": {
    "name": "ipython",
    "version": 3
   },
   "file_extension": ".py",
   "mimetype": "text/x-python",
   "name": "python",
   "nbconvert_exporter": "python",
   "pygments_lexer": "ipython3",
   "version": "3.8.5-final"
  },
  "orig_nbformat": 2,
  "kernelspec": {
   "name": "python3",
   "display_name": "Python 3",
   "language": "python"
  }
 },
 "nbformat": 4,
 "nbformat_minor": 2,
 "cells": [
  {
   "cell_type": "code",
   "execution_count": 1,
   "metadata": {},
   "outputs": [],
   "source": [
    "from selenium import webdriver\n",
    "from selenium.webdriver.common.keys import Keys\n",
    "\n",
    "driver = webdriver.Chrome()\n",
    "driver.get(\"http://image-net.org/\")"
   ]
  },
  {
   "cell_type": "code",
   "execution_count": 5,
   "metadata": {},
   "outputs": [],
   "source": [
    "elem = driver.find_element_by_name('q')\n",
    "elem.clear()\n",
    "elem.send_keys('dog')\n",
    "elem.send_keys(Keys.RETURN)"
   ]
  },
  {
   "cell_type": "code",
   "execution_count": 13,
   "metadata": {},
   "outputs": [],
   "source": [
    "source = driver.find_element_by_class_name('search_result')\n",
    "source = source.get_attribute('innerHTML')"
   ]
  },
  {
   "cell_type": "code",
   "execution_count": 40,
   "metadata": {},
   "outputs": [
    {
     "output_type": "stream",
     "name": "stdout",
     "text": [
      "{'n02111277', 'n02106662', 'n02109961', 'n03218198', 'n02110341', 'n02116738'}\n"
     ]
    }
   ],
   "source": [
    "import re\n",
    "\n",
    "res = re.findall('(synset\\?wnid=n[\\d]{8})', source)\n",
    "\n",
    "unique_wnids = set()\n",
    "\n",
    "for match in res:\n",
    "    re1 = re.search('n[\\d]{8}', match)\n",
    "    unique_wnids.add(re1.group())\n",
    "\n",
    "print(unique_wnids)"
   ]
  },
  {
   "cell_type": "code",
   "execution_count": 48,
   "metadata": {},
   "outputs": [
    {
     "output_type": "execute_result",
     "data": {
      "text/plain": [
       "(6983, 1749)"
      ]
     },
     "metadata": {},
     "execution_count": 48
    }
   ],
   "source": [
    "import requests\n",
    "\n",
    "unique_wnids = list(unique_wnids)\n",
    "uri_prefix = 'http://www.image-net.org/api/text/imagenet.synset.geturls?wnid='\n",
    "\n",
    "train_urls, test_urls = [], []\n",
    "\n",
    "for wnid in unique_wnids:\n",
    "    page = requests.get(f'{uri_prefix}{wnid}')\n",
    "    uri_list = page.text.split('\\r\\n')\n",
    "\n",
    "    split_index = int(len(uri_list) * 0.8)\n",
    "\n",
    "    train_urls.extend(uri_list[:split_index])\n",
    "    test_urls.extend(uri_list[split_index:])\n",
    "\n",
    "\n",
    "len(train_urls), len(test_urls)"
   ]
  },
  {
   "cell_type": "code",
   "execution_count": 50,
   "metadata": {},
   "outputs": [],
   "source": [
    "train_urls = list(set(train_urls))\n",
    "test_urls = list(set(test_urls))"
   ]
  },
  {
   "cell_type": "code",
   "execution_count": 74,
   "metadata": {},
   "outputs": [],
   "source": [
    "import urllib\n",
    "import cv2\n",
    "import numpy as np\n",
    "\n",
    "def get_image_name(url):\n",
    "    return url.rsplit('/', 1)[-1]"
   ]
  },
  {
   "cell_type": "code",
   "execution_count": 73,
   "metadata": {},
   "outputs": [],
   "source": [
    "from skimage import io\n",
    "import os \n",
    "\n",
    "def store_in_foler(folder_name, urls, max_files = -1):\n",
    "    stored = 0\n",
    "    for url in urls:\n",
    "        if stored <= max_files or max_files == -1:\n",
    "            try:\n",
    "                img = io.imread(url)\n",
    "                cv2.imwrite(f'./{folder_name}/{get_image_name(url)}', cv2.cvtColor(img, cv2.COLOR_BGR2RGB))\n",
    "                stored = stored + 1\n",
    "            except Exception:\n",
    "                pass"
   ]
  },
  {
   "cell_type": "code",
   "execution_count": null,
   "metadata": {},
   "outputs": [],
   "source": []
  }
 ]
}